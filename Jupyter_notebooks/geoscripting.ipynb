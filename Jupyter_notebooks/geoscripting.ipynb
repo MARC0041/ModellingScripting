{
 "cells": [
  {
   "cell_type": "code",
   "execution_count": 2,
   "id": "dc121c52",
   "metadata": {},
   "outputs": [],
   "source": [
    "import numpy as np\n",
    "import matplotlib.pyplot as plt\n",
    "import math\n",
    "import ipyvolume as ipv\n",
    "from geomdl import BSpline, utilities\n",
    "from matplotlib import cm"
   ]
  },
  {
   "cell_type": "code",
   "execution_count": 7,
   "id": "77297b8e",
   "metadata": {},
   "outputs": [],
   "source": [
    "from stl import mesh"
   ]
  },
  {
   "cell_type": "code",
   "execution_count": 10,
   "id": "12857525",
   "metadata": {},
   "outputs": [
    {
     "name": "stdout",
     "output_type": "stream",
     "text": [
      "exception (False, \"b'\\\\xd7\\\\xd3@\\\\x00\\\\x00\\\\xa0\\\\xbf\\\\xdfo\\\\x9da\\\\x00\\\\x00\\\\xf95\\\\x7f\\\\xbf\\\\x0b\\\\xd5\\\\xc1&*\\\\xaf\\\\xa0=\\\\xa0\\\\x1a\\\\xd3@\\\\xbe\\\\x9f\\\\x9a\\\\xbf\\\\xc3\\\\xf5\\\\x9aa)\\\\\\\\\\\\xd3@\\\\xa4p\\\\x9d\\\\xbfj\\\\xbc\\\\x9bam\\\\xe7\\\\xd3@\\\\x00\\\\x00\\\\x00\\\\x00\\\\x12\\\\x83\\\\x9da\\\\x00\\\\x00\\\\xf95\\\\x7f\\\\xbf\\\\x86\\\\xaa\\\\xa9\\\\xa6*\\\\xaf\\\\xa0=)\\\\\\\\\\\\xd3@\\\\xa4p\\\\x9d\\\\xbfj\\\\xbc\\\\x9ba\\\\x81\\\\x95\\\\xd3@d;\\\\x9f\\\\xbf\\\\x1f\\\\x85\\\\x9cam\\\\xe7\\\\xd3@\\\\x00\\\\x00\\\\x00\\\\x00\\\\x12\\\\x83\\\\x9da\\\\x00\\\\x00\\\\xf95\\\\x7f\\\\xbf\\\\x1b\\\\x82\\\\x80%*\\\\xaf\\\\xa0=m\\\\xe7\\\\xd3@\\\\x00\\\\x00\\\\x00\\\\x00\\\\x12\\\\x83\\\\x9da\\\\x81\\\\x95\\\\xd3@d;\\\\x9f\\\\xbf\\\\x1f\\\\x85\\\\x9ca' should start with b'facet normal'\")\n"
     ]
    },
    {
     "data": {
      "text/plain": [
       "<Figure size 640x480 with 0 Axes>"
      ]
     },
     "metadata": {},
     "output_type": "display_data"
    }
   ],
   "source": [
    "import stl\n",
    "from stl import mesh\n",
    "from mpl_toolkits import mplot3d\n",
    "from matplotlib import pyplot\n",
    "sphere = mesh.Mesh.from_file(\"3DBenchy.stl\")\n",
    "# print(f\"vectors: {sphere.vectors}\")\n",
    "# create a new plot\n",
    "figure = pyplot.figure()\n",
    "axes = mplot3d.Axes3D(figure)\n",
    "axes.add_collection3d(mplot3d.art3d.Poly3DCollection(sphere.vectors))\n",
    "                      \n",
    "scale = sphere.points.flatten()\n",
    "axes.auto_scale_xyz(scale, scale, scale)\n",
    "\n",
    "pyplot.show()"
   ]
  },
  {
   "cell_type": "code",
   "execution_count": null,
   "id": "55acd670",
   "metadata": {},
   "outputs": [],
   "source": []
  }
 ],
 "metadata": {
  "kernelspec": {
   "display_name": "Python [conda env:geoscripting]",
   "language": "python",
   "name": "conda-env-geoscripting-py"
  },
  "language_info": {
   "codemirror_mode": {
    "name": "ipython",
    "version": 3
   },
   "file_extension": ".py",
   "mimetype": "text/x-python",
   "name": "python",
   "nbconvert_exporter": "python",
   "pygments_lexer": "ipython3",
   "version": "3.11.4"
  }
 },
 "nbformat": 4,
 "nbformat_minor": 5
}
